{
  "nbformat": 4,
  "nbformat_minor": 0,
  "metadata": {
    "colab": {
      "provenance": [],
      "authorship_tag": "ABX9TyM4RgU75AQwSj2Yy9ZhvXlO",
      "include_colab_link": true
    },
    "kernelspec": {
      "name": "python3",
      "display_name": "Python 3"
    },
    "language_info": {
      "name": "python"
    }
  },
  "cells": [
    {
      "cell_type": "markdown",
      "metadata": {
        "id": "view-in-github",
        "colab_type": "text"
      },
      "source": [
        "<a href=\"https://colab.research.google.com/github/indhu1122/indhu/blob/main/nlp1.ipynb\" target=\"_parent\"><img src=\"https://colab.research.google.com/assets/colab-badge.svg\" alt=\"Open In Colab\"/></a>"
      ]
    },
    {
      "cell_type": "code",
      "execution_count": 2,
      "metadata": {
        "colab": {
          "base_uri": "https://localhost:8080/"
        },
        "id": "Yagm6ykJFhLZ",
        "outputId": "8e7d0e67-054a-4e70-dec9-1691bd65397c"
      },
      "outputs": [
        {
          "output_type": "stream",
          "name": "stdout",
          "text": [
            "this day is beautiful    insta good  photo of the day   cute\n"
          ]
        }
      ],
      "source": [
        "import re\n",
        "raw_text=\"this day is beautiful! # insta good #photo of the day # cute\"\n",
        "processed_text=re.sub(r'[1#1!]',\" \",raw_text)\n",
        "print(processed_text)"
      ]
    }
  ]
}